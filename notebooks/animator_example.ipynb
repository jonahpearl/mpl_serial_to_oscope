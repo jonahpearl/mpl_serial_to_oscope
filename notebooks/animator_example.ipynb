{
 "cells": [
  {
   "cell_type": "code",
   "execution_count": 1,
   "id": "bd9e0112-3534-4954-8f30-f7ef56f57d49",
   "metadata": {},
   "outputs": [],
   "source": [
    "import numpy as np\n",
    "import matplotlib.pyplot as plt\n",
    "import matplotlib\n",
    "from time import time, sleep\n",
    "from mplserialscope.animate import MPLAnimator"
   ]
  },
  {
   "cell_type": "code",
   "execution_count": 2,
   "id": "9e0af22c-b9fc-4239-8ac9-c94b320439ab",
   "metadata": {},
   "outputs": [],
   "source": [
    "matplotlib.use('Qt5Agg')"
   ]
  },
  {
   "cell_type": "code",
   "execution_count": 6,
   "id": "eb2952c8-04b9-43e0-b2d6-c71dfd992e26",
   "metadata": {},
   "outputs": [],
   "source": [
    "fs = 500\n",
    "n_samples_to_show = fs*2\n",
    "\n",
    "dummy_header = 'foo,bar,bang,thermistor'\n",
    "dummy_data = [\n",
    "    f'{np.round(i/np.pi,2)},\\\n",
    "    {int((i%2)/2 < 0.5)},\\\n",
    "    {int((i%2)/2 > 0.5)},\\\n",
    "    {str(np.sin(i).round(3))}'\n",
    "      for i in np.arange(0, 20, (np.pi/fs))\n",
    "]  # sin wave at 0.5 hz"
   ]
  },
  {
   "cell_type": "code",
   "execution_count": 7,
   "id": "6992526c-8d1b-4d93-acab-862549c69bd8",
   "metadata": {},
   "outputs": [],
   "source": [
    "thermistor_animator = MPLAnimator(\n",
    "    n_samples_to_show, \n",
    "    fs, \n",
    "    signal_header_name='thermistor', \n",
    "    signal_yvals=(-1,1),\n",
    "    text_header_names=[\"foo\"],\n",
    "    bool_header_names=[\"bang\", \"bar\"],\n",
    "    q_downsample=5\n",
    ")\n",
    "thermistor_animator.extract_indices_from_header(dummy_header)\n",
    "thermistor_animator.start()\n",
    "\n",
    "# simulate data coming in in real time\n",
    "tic = time()\n",
    "iLine = 0\n",
    "while iLine < len(dummy_data):\n",
    "    toc = time()\n",
    "    if (toc - tic) > (1/fs):\n",
    "        tic = toc\n",
    "        thermistor_animator.update(dummy_data[iLine])\n",
    "        iLine += 1\n",
    "thermistor_animator.close()\n"
   ]
  },
  {
   "cell_type": "code",
   "execution_count": null,
   "id": "d7b18be8",
   "metadata": {},
   "outputs": [],
   "source": []
  }
 ],
 "metadata": {
  "kernelspec": {
   "display_name": "Python 3 (ipykernel)",
   "language": "python",
   "name": "python3"
  },
  "language_info": {
   "codemirror_mode": {
    "name": "ipython",
    "version": 3
   },
   "file_extension": ".py",
   "mimetype": "text/x-python",
   "name": "python",
   "nbconvert_exporter": "python",
   "pygments_lexer": "ipython3",
   "version": "3.9.18"
  }
 },
 "nbformat": 4,
 "nbformat_minor": 5
}
